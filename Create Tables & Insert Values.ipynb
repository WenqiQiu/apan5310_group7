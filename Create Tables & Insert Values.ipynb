{
 "cells": [
  {
   "cell_type": "code",
   "execution_count": 20,
   "id": "9f4407ca-9681-4403-9de5-b993853561ca",
   "metadata": {},
   "outputs": [],
   "source": [
    "import pandas as pd\n",
    "import psycopg2\n",
    "\n",
    "# Load the CSV files\n",
    "office_df = pd.read_csv('./1.Office.csv')\n",
    "employee_df = pd.read_csv('./2.Employee.csv')\n",
    "worksat_df = pd.read_csv('./3.WorksAt.csv')\n",
    "cost_df = pd.read_csv('./4.Cost.csv')\n",
    "costitem_df = pd.read_csv('./5.CostItem.csv')\n",
    "owner_df = pd.read_csv('./6.Owner.csv')\n",
    "property_df = pd.read_csv('./7.Property.csv')\n",
    "owns_df = pd.read_csv('./8.Owns.csv')\n",
    "client_df = pd.read_csv('./9.Client.csv')\n",
    "address_df = pd.read_csv('./10.Address.csv')\n",
    "prefers_df = pd.read_csv('./11.Prefers.csv')\n",
    "appointment_df = pd.read_csv('./12.Appointment.csv')\n",
    "transaction_df = pd.read_csv('./13.Transaction.csv')\n",
    "contract_df = pd.read_csv('./14.Contract.csv')\n",
    "feedback_df = pd.read_csv('./15.Feedback.csv')"
   ]
  },
  {
   "cell_type": "code",
   "execution_count": 21,
   "id": "ee175d96-6acf-449b-8747-38ebfec7e305",
   "metadata": {},
   "outputs": [],
   "source": [
    "# Database connection\n",
    "conn = psycopg2.connect(\n",
    "    \"dbname=dream_homes_nyc user=postgres password=123 host=localhost\")\n",
    "cursor = conn.cursor()"
   ]
  },
  {
   "cell_type": "code",
   "execution_count": 22,
   "id": "e2c963dc",
   "metadata": {},
   "outputs": [],
   "source": [
    "# Create the tables\n",
    "cursor.execute('''\n",
    "CREATE TABLE IF NOT EXISTS Address (\n",
    "        AddressID INT PRIMARY KEY,\n",
    "        Street VARCHAR(255),\n",
    "        City VARCHAR(100),\n",
    "        State VARCHAR(100),\n",
    "        ZipCode VARCHAR(20),\n",
    "        Country VARCHAR(100)\n",
    ");\n",
    "''')\n",
    "\n",
    "cursor.execute('''\n",
    "CREATE TABLE IF NOT EXISTS Office (\n",
    "        OfficeID INT PRIMARY KEY,\n",
    "        AddressID INT,\n",
    "        Phone VARCHAR(20),\n",
    "        FOREIGN KEY (AddressID) REFERENCES Address(AddressID));\n",
    "''')\n",
    "\n",
    "cursor.execute('''\n",
    "CREATE TABLE IF NOT EXISTS Employee (\n",
    "        EmployeeID INT PRIMARY KEY,\n",
    "        FirstName VARCHAR(100),\n",
    "        LastName VARCHAR(100),\n",
    "        Role VARCHAR(50),\n",
    "        Salary DECIMAL(15, 2),\n",
    "        Phone VARCHAR(20),\n",
    "        Email VARCHAR(100));\n",
    "''')\n",
    "\n",
    "cursor.execute('''\n",
    "CREATE TABLE IF NOT EXISTS WorksAt (\n",
    "        EmployeeID INT,\n",
    "        OfficeID INT,\n",
    "        PRIMARY KEY (EmployeeID, OfficeID),\n",
    "        FOREIGN KEY (EmployeeID) REFERENCES Employee(EmployeeID),\n",
    "        FOREIGN KEY (OfficeID) REFERENCES Office(OfficeID));\n",
    "''')\n",
    "\n",
    "cursor.execute('''\n",
    "CREATE TABLE IF NOT EXISTS CostItem (\n",
    "        CostItemID INT PRIMARY KEY,\n",
    "        CostItem VARCHAR(100));\n",
    "''')\n",
    "\n",
    "cursor.execute('''\n",
    "CREATE TABLE IF NOT EXISTS Cost (\n",
    "        CostID VARCHAR(50) PRIMARY KEY,\n",
    "        CostItemID INT,\n",
    "        CostDescription TEXT,\n",
    "        Amount DECIMAL(15, 2),\n",
    "        Time DATE,\n",
    "        OfficeID INT,\n",
    "        FOREIGN KEY (CostItemID) REFERENCES CostItem(CostItemID),\n",
    "        FOREIGN KEY (OfficeID) REFERENCES Office(OfficeID));\n",
    "''')\n",
    "\n",
    "cursor.execute('''\n",
    "CREATE TABLE IF NOT EXISTS Owner (\n",
    "        OwnerID INT PRIMARY KEY,\n",
    "        FirstName VARCHAR(100),\n",
    "        LastName VARCHAR(100),\n",
    "        Phone VARCHAR(20),\n",
    "        Email VARCHAR(100),\n",
    "        AddressID INT,\n",
    "        FOREIGN KEY (AddressID) REFERENCES Address(AddressID));\n",
    "''')\n",
    "\n",
    "cursor.execute('''\n",
    "CREATE TABLE IF NOT EXISTS Property (\n",
    "        PropertyID INT PRIMARY KEY,\n",
    "        Availability VARCHAR(10),\n",
    "        ListingType VARCHAR(20),\n",
    "        UnitType VARCHAR(20),\n",
    "        SalePrice DECIMAL(15, 2),\n",
    "        LeasePricePerYear DECIMAL(15, 2),\n",
    "        BuildingYear INT,\n",
    "        DateAdded DATE,\n",
    "        AddressID INT,\n",
    "        FOREIGN KEY (AddressID) REFERENCES Address(AddressID));\n",
    "''')\n",
    "\n",
    "cursor.execute('''\n",
    "CREATE TABLE IF NOT EXISTS Owns (\n",
    "        OwnerID INT,\n",
    "        PropertyID INT,\n",
    "        PRIMARY KEY (OwnerID, PropertyID),\n",
    "        FOREIGN KEY (OwnerID) REFERENCES Owner(OwnerID),\n",
    "        FOREIGN KEY (PropertyID) REFERENCES Property(PropertyID));\n",
    "''')\n",
    "\n",
    "cursor.execute('''\n",
    "CREATE TABLE IF NOT EXISTS Client (\n",
    "        ClientID INT PRIMARY KEY,\n",
    "        FirstName VARCHAR(100),\n",
    "        LastName VARCHAR(100),\n",
    "        DesiredTransactionType VARCHAR(20),\n",
    "        Phone VARCHAR(20),\n",
    "        Email VARCHAR(100),\n",
    "        AddressID INT,\n",
    "        FOREIGN KEY (AddressID) REFERENCES Address(AddressID));\n",
    "''')\n",
    "\n",
    "cursor.execute('''\n",
    "CREATE TABLE IF NOT EXISTS ClientPropertyPreferences (\n",
    "        ClientID INT,\n",
    "        PreferredPropertyType VARCHAR(50),\n",
    "        Budget DECIMAL(15, 2),\n",
    "        PRIMARY KEY (ClientID, PreferredPropertyType),\n",
    "        FOREIGN KEY (ClientID) REFERENCES Client(ClientID));\n",
    "''')\n",
    "\n",
    "cursor.execute('''\n",
    "CREATE TABLE IF NOT EXISTS Appointment (\n",
    "        AppointmentID VARCHAR(50) PRIMARY KEY,\n",
    "        ClientID INT,\n",
    "        PropertyID INT,\n",
    "        AgentID INT,\n",
    "        AppointmentMadeDate DATE,\n",
    "        VisitDate DATE,\n",
    "        FOREIGN KEY (ClientID) REFERENCES Client(ClientID),\n",
    "        FOREIGN KEY (PropertyID) REFERENCES Property(PropertyID),\n",
    "        FOREIGN KEY (AgentID) REFERENCES Employee(EmployeeID));\n",
    "''')\n",
    "\n",
    "cursor.execute('''\n",
    "CREATE TABLE IF NOT EXISTS Transaction (\n",
    "        TransactionID VARCHAR(50) PRIMARY KEY,\n",
    "        AgentID INT,\n",
    "        TransactionDate DATE,\n",
    "        FOREIGN KEY (AgentID) REFERENCES Employee(EmployeeID));\n",
    "''')\n",
    "\n",
    "cursor.execute('''\n",
    "CREATE TABLE IF NOT EXISTS Contract (\n",
    "        ContractID VARCHAR(50) PRIMARY KEY,\n",
    "        TransactionID VARCHAR(50),\n",
    "        ClientID INT,\n",
    "        PropertyID INT,\n",
    "        StartDate DATE,\n",
    "        EndDate DATE,\n",
    "        ContractType VARCHAR(20),\n",
    "        Amount DECIMAL(15, 2),\n",
    "        ContractStatus VARCHAR(20),\n",
    "        RenewalOption VARCHAR(50),\n",
    "        DepositAmount DECIMAL(15, 2),\n",
    "        MonthlyRent DECIMAL(15, 2),\n",
    "        TerminationClause TEXT,\n",
    "        SignedDate DATE,\n",
    "        WitnessName VARCHAR(100),\n",
    "        SpecialTerms TEXT,\n",
    "        FOREIGN KEY (TransactionID) REFERENCES Transaction(TransactionID),\n",
    "        FOREIGN KEY (ClientID) REFERENCES Client(ClientID),\n",
    "        FOREIGN KEY (PropertyID) REFERENCES Property(PropertyID));\n",
    "''')\n",
    "\n",
    "cursor.execute('''\n",
    "CREATE TABLE IF NOT EXISTS Feedback (\n",
    "        FeedbackID VARCHAR(50) PRIMARY KEY,\n",
    "        ClientID INT,\n",
    "        AgentID INT,\n",
    "        Rating INT,\n",
    "        Feedback TEXT,\n",
    "        InteractionType VARCHAR(20),\n",
    "        FeedbackDate DATE,\n",
    "        FOREIGN KEY (ClientID) REFERENCES Client(ClientID),\n",
    "        FOREIGN KEY (AgentID) REFERENCES Employee(EmployeeID));\n",
    "''')\n",
    "# Commit the changes and close the connection\n",
    "conn.commit()"
   ]
  },
  {
   "cell_type": "code",
   "execution_count": 23,
   "id": "938b483a",
   "metadata": {},
   "outputs": [],
   "source": [
    "# Insert data into Address table\n",
    "for _, row in address_df.iterrows():\n",
    "    cursor.execute('''\n",
    "        INSERT INTO Address (AddressID, Street, City, State, ZipCode, Country) VALUES (%s, %s, %s, %s, %s, %s)\n",
    "    ''', (int(row['AddressID']), row['Street'], row['City'], row['State'], row['ZipCode'], row['Country']))"
   ]
  },
  {
   "cell_type": "code",
   "execution_count": 24,
   "id": "999918c7",
   "metadata": {},
   "outputs": [],
   "source": [
    "# Insert data into Office table\n",
    "for _, row in office_df.iterrows():\n",
    "    cursor.execute('''\n",
    "        INSERT INTO Office (OfficeID, AddressID, Phone) VALUES (%s, %s, %s)\n",
    "    ''', (int(row['OfficeID']), int(row['AddressID']), row['Phone']))"
   ]
  },
  {
   "cell_type": "code",
   "execution_count": 25,
   "id": "421777cb",
   "metadata": {},
   "outputs": [],
   "source": [
    "# Insert data into Employee table\n",
    "for _, row in employee_df.iterrows():\n",
    "    cursor.execute('''\n",
    "        INSERT INTO Employee (EmployeeID, FirstName, LastName, Role, Salary, Phone, Email) VALUES (%s, %s, %s, %s, %s, %s, %s)\n",
    "    ''', (int(row['EmployeeID']), row['FirstName'], row['LastName'], row['Role'], float(row['Salary']), row['Phone'], row['Email']))"
   ]
  },
  {
   "cell_type": "code",
   "execution_count": 26,
   "id": "218cc934",
   "metadata": {},
   "outputs": [],
   "source": [
    "# Insert data into WorksAt table\n",
    "for _, row in worksat_df.iterrows():\n",
    "    cursor.execute('''\n",
    "        INSERT INTO WorksAt (EmployeeID, OfficeID) VALUES (%s, %s)\n",
    "    ''', (int(row['EmployeeID']), int(row['OfficeID'])))"
   ]
  },
  {
   "cell_type": "code",
   "execution_count": 27,
   "id": "127c8dd0",
   "metadata": {},
   "outputs": [],
   "source": [
    "# Insert data into CostItem table\n",
    "for _, row in costitem_df.iterrows():\n",
    "    cursor.execute('''\n",
    "        INSERT INTO CostItem (CostItemID, CostItem) VALUES (%s, %s)\n",
    "    ''', (int(row['CostItemID']), row['CostItem']))\n"
   ]
  },
  {
   "cell_type": "code",
   "execution_count": 28,
   "id": "aa80964a",
   "metadata": {},
   "outputs": [],
   "source": [
    "# Insert data into Cost table\n",
    "for _, row in cost_df.iterrows():\n",
    "    cursor.execute('''\n",
    "        INSERT INTO Cost (CostID, CostItemID, CostDescription, Amount, Time, OfficeID) VALUES (%s, %s, %s, %s, %s, %s)\n",
    "    ''', (row['CostID'], int(row['CostItemID']), row['CostDescription'], float(row['Amount']), row['Time'], int(row['OfficeID'])))\n"
   ]
  },
  {
   "cell_type": "code",
   "execution_count": 29,
   "id": "6ea00948",
   "metadata": {},
   "outputs": [],
   "source": [
    "# Insert data into Owner table\n",
    "for _, row in owner_df.iterrows():\n",
    "    cursor.execute('''\n",
    "        INSERT INTO Owner (OwnerID, FirstName, LastName, Phone, Email, AddressID) VALUES (%s, %s, %s, %s, %s, %s)\n",
    "    ''', (int(row['OwnerID']), row['FirstName'], row['LastName'], row['Phone'], row['Email'], int(row['AddressID'])))\n"
   ]
  },
  {
   "cell_type": "code",
   "execution_count": 30,
   "id": "b98451d9",
   "metadata": {},
   "outputs": [],
   "source": [
    "# Insert data into Property table\n",
    "for _, row in property_df.iterrows():\n",
    "    cursor.execute('''\n",
    "        INSERT INTO Property (PropertyID, Availability, ListingType, UnitType, SalePrice, LeasePricePerYear, BuildingYear, DateAdded, AddressID) VALUES (%s, %s, %s, %s, %s, %s, %s, %s, %s)\n",
    "    ''', (int(row['PropertyID']), row['Availability'], row['ListingType'], row['UnitType'], float(row['SalePrice']), float(row['LeasePricePerYear']), int(row['BuildingYear']), row['DateAdded'], int(row['AddressID'])))\n"
   ]
  },
  {
   "cell_type": "code",
   "execution_count": 31,
   "id": "2ad4ca9d",
   "metadata": {},
   "outputs": [],
   "source": [
    "# Insert data into Owns table\n",
    "for _, row in owns_df.iterrows():\n",
    "    cursor.execute('''\n",
    "        INSERT INTO Owns (OwnerID, PropertyID) VALUES (%s, %s)\n",
    "    ''', (int(row['OwnerID']), int(row['PropertyID'])))"
   ]
  },
  {
   "cell_type": "code",
   "execution_count": 32,
   "id": "4fb0c477",
   "metadata": {},
   "outputs": [],
   "source": [
    "# Insert data into Client table\n",
    "for _, row in client_df.iterrows():\n",
    "    cursor.execute('''\n",
    "        INSERT INTO Client (ClientID, FirstName, LastName, DesiredTransactionType, Phone, Email, AddressID) VALUES (%s, %s, %s, %s, %s, %s, %s)\n",
    "    ''', (int(row['ClientID']), row['FirstName'], row['LastName'], row['DesiredTransactionType'], row['Phone'], row['Email'], int(row['AddressID'])))"
   ]
  },
  {
   "cell_type": "code",
   "execution_count": 33,
   "id": "e1681c71",
   "metadata": {},
   "outputs": [],
   "source": [
    "# Insert data into ClientPropertyPreferences table\n",
    "for _, row in prefers_df.iterrows():\n",
    "    cursor.execute('''\n",
    "        INSERT INTO ClientPropertyPreferences (ClientID, PreferredPropertyType, Budget) VALUES (%s, %s, %s)\n",
    "    ''', (int(row['ClientID']), row['PreferredPropertyType'], float(row['Budget'])))"
   ]
  },
  {
   "cell_type": "code",
   "execution_count": 34,
   "id": "fb7dbcba",
   "metadata": {},
   "outputs": [],
   "source": [
    "# Insert data into Appointment table\n",
    "for _, row in appointment_df.iterrows():\n",
    "    cursor.execute('''\n",
    "        INSERT INTO Appointment (AppointmentID, ClientID, PropertyID, AgentID, AppointmentMadeDate, VisitDate) VALUES (%s, %s, %s, %s, %s, %s)\n",
    "    ''', (row['AppointmentID'], int(row['ClientID']), int(row['PropertyID']), int(row['AgentID']), row['AppointmentMadeDate'], row['VisitDate']))"
   ]
  },
  {
   "cell_type": "code",
   "execution_count": 35,
   "id": "736f893e",
   "metadata": {},
   "outputs": [],
   "source": [
    "# Insert data into Transaction table\n",
    "for _, row in transaction_df.iterrows():\n",
    "    cursor.execute('''\n",
    "        INSERT INTO Transaction (TransactionID, AgentID, TransactionDate) VALUES (%s, %s, %s)\n",
    "    ''', (row['TransactionID'], int(row['AgentID']), row['TransactionDate']))\n"
   ]
  },
  {
   "cell_type": "code",
   "execution_count": 39,
   "id": "223a0c8b-5a88-4ed4-a913-cae09924b89d",
   "metadata": {},
   "outputs": [],
   "source": [
    "#Insert data into Feedback table\n",
    "for _, row in feedback_df.iterrows():\n",
    "    cursor.execute('''\n",
    "        INSERT INTO Feedback (FeedbackID, ClientID, AgentID, Rating, Feedback, InteractionType, FeedbackDate) VALUES (%s, %s, %s, %s, %s, %s, %s)\n",
    "    ''', (row['FeedbackID'], int(row['ClientID']), int(row['AgentID']), int(row['Rating']), row['Feedback'], row['InteractionType'], row['FeedbackDate']))"
   ]
  },
  {
   "cell_type": "code",
   "execution_count": 36,
   "id": "570b3648",
   "metadata": {},
   "outputs": [],
   "source": [
    "from datetime import datetime\n",
    "def convert_date(date_str):\n",
    "    return datetime.strptime(date_str, '%Y-%m-%d') if pd.notna(date_str) else None"
   ]
  },
  {
   "cell_type": "code",
   "execution_count": 37,
   "id": "f458531c-c5d8-4f84-9e4a-8da7d1e199ae",
   "metadata": {},
   "outputs": [],
   "source": [
    "# Insert data into Contract table\n",
    "for _, row in contract_df.iterrows():\n",
    "    cursor.execute('''\n",
    "        INSERT INTO Contract (ContractID, TransactionID, ClientID, PropertyID, StartDate, EndDate, ContractType, Amount, ContractStatus, RenewalOption, DepositAmount, MonthlyRent, TerminationClause, SignedDate, WitnessName, SpecialTerms) VALUES (%s, %s, %s, %s, %s, %s, %s, %s, %s, %s, %s, %s, %s, %s, %s, %s)\n",
    "    ''', (row['ContractID'], row['TransactionID'], row['ClientID'], row['PropertyID'], row['StartDate'], convert_date(row['EndDate']), row['ContractType'], row['Amount'], row['ContractStatus'], row['RenewalOption'], row['DepositAmount'], row['MonthlyRent'], row['TerminationClause'], row['SignedDate'], row['WitnessName'], row['SpecialTerms']))"
   ]
  },
  {
   "cell_type": "code",
   "execution_count": 40,
   "id": "2c89a68a-43f5-401e-853a-67383f962f6e",
   "metadata": {},
   "outputs": [],
   "source": [
    "conn.commit()"
   ]
  },
  {
   "cell_type": "code",
   "execution_count": null,
   "id": "9e606fba-a5d1-4adb-8e62-26550e6156b7",
   "metadata": {},
   "outputs": [],
   "source": [
    "# Close the cursor and connection\n",
    "cursor.close()\n",
    "conn.close()"
   ]
  },
  {
   "cell_type": "code",
   "execution_count": null,
   "id": "e0d6cc8d",
   "metadata": {},
   "outputs": [],
   "source": []
  }
 ],
 "metadata": {
  "kernelspec": {
   "display_name": "Python 3 (ipykernel)",
   "language": "python",
   "name": "python3"
  },
  "language_info": {
   "codemirror_mode": {
    "name": "ipython",
    "version": 3
   },
   "file_extension": ".py",
   "mimetype": "text/x-python",
   "name": "python",
   "nbconvert_exporter": "python",
   "pygments_lexer": "ipython3",
   "version": "3.11.5"
  }
 },
 "nbformat": 4,
 "nbformat_minor": 5
}
