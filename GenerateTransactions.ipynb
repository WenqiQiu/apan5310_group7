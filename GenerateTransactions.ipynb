{
 "cells": [
  {
   "cell_type": "markdown",
   "id": "69b1052e-fa98-4973-bab5-aa2239bfe376",
   "metadata": {},
   "source": [
    "# Generate transactions"
   ]
  },
  {
   "cell_type": "code",
   "execution_count": null,
   "id": "66dadf0c-15e1-45fb-946e-07fb1b876972",
   "metadata": {},
   "outputs": [],
   "source": [
    "import pandas as pd\n",
    "import numpy as np\n",
    "\n",
    "# Load the datasets\n",
    "office_df = pd.read_csv('./1.Office.csv')\n",
    "employee_df = pd.read_csv('./2.Employee.csv')\n",
    "owner_df = pd.read_csv('./5.Owner.csv')\n",
    "property_df = pd.read_csv('./6.Property.csv')\n",
    "owns_df = pd.read_csv('./7.Owns.csv')\n",
    "client_df = pd.read_csv('./8.Client.csv')\n",
    "prefers_df = pd.read_csv('./10.Prefers.csv')\n",
    "appointment_df = pd.read_csv('./11.Appointment.csv')\n",
    "\n",
    "# Merge appointment with property and client data\n",
    "merged_df = appointment_df.merge(property_df, on='PropertyID').merge(client_df, on='ClientID').merge(prefers_df, on='ClientID')\n",
    "\n",
    "# Determine the correct price column based on DesiredTransactionType\n",
    "merged_df['Price'] = merged_df.apply(\n",
    "    lambda row: row['SalePrice'] if row['DesiredTransactionType'] == 'Purchase' else row['LeasePricePerYear'], axis=1\n",
    ")\n",
    "\n",
    "# Filter based on budget\n",
    "valid_transactions_df = merged_df[merged_df['Price'] <= merged_df['Budget']]\n",
    "\n",
    "# Ensure 'VisitDate' is in datetime format\n",
    "valid_transactions_df['VisitDate'] = pd.to_datetime(valid_transactions_df['VisitDate'])\n",
    "\n",
    "# Generate random transaction date later than the appointment date\n",
    "valid_transactions_df['TransactionDate'] = valid_transactions_df['VisitDate'] + pd.to_timedelta(np.random.randint(1, 365, size=len(valid_transactions_df)), unit='D')\n",
    "\n",
    "# Add transaction type column\n",
    "valid_transactions_df['TransactionType'] = valid_transactions_df['DesiredTransactionType']\n",
    "\n",
    "# Separate price columns\n",
    "valid_transactions_df['PurchasePrice'] = np.where(valid_transactions_df['TransactionType'] == 'Purchase', valid_transactions_df['Price'], np.nan)\n",
    "valid_transactions_df['LeasePricePerYear'] = np.where(valid_transactions_df['TransactionType'] == 'Rent', valid_transactions_df['Price'], np.nan)\n",
    "\n",
    "# Generate lease year for rent transactions\n",
    "valid_transactions_df['LeaseYear'] = np.where(valid_transactions_df['TransactionType'] == 'Rent', np.random.randint(1, 6, size=len(valid_transactions_df)), np.nan)\n",
    "\n",
    "# Remove duplicate Client-Property combinations. We will manually insert some exceptions later.\n",
    "valid_transactions_df = valid_transactions_df.drop_duplicates(subset=['ClientID', 'PropertyID'])\n",
    "\n",
    "# Ensure properties for sale are sold only once. We will manually insert some exceptions later.\n",
    "sale_transactions = valid_transactions_df[valid_transactions_df['TransactionType'] == 'Purchase'].drop_duplicates(subset=['PropertyID'])\n",
    "rent_transactions = valid_transactions_df[valid_transactions_df['TransactionType'] == 'Rent']\n",
    "\n",
    "# Combine sale and rent transactions\n",
    "transactions_df = pd.concat([sale_transactions, rent_transactions])\n",
    "\n",
    "# Sort transactions by TransactionDate\n",
    "transactions_df = transactions_df.sort_values(by='TransactionDate').reset_index(drop=True)\n",
    "\n",
    "# Assign TransactionID\n",
    "transactions_df['TransactionID'] = ['T{:03d}'.format(i+1) for i in range(len(transactions_df))]\n",
    "\n",
    "# Drop the VisitDate column\n",
    "transactions_df = transactions_df.drop(columns=['VisitDate'])\n",
    "\n",
    "# Reorder columns to place TransactionID first\n",
    "transactions_df = transactions_df[['TransactionID', 'ClientID', 'PropertyID', 'AgentID', 'TransactionDate', 'TransactionType', 'PurchasePrice', 'LeasePricePerYear', 'LeaseYear']]"
   ]
  },
  {
   "cell_type": "markdown",
   "id": "a5e4e4fb-96bc-4537-8353-d4105907bbef",
   "metadata": {},
   "source": [
    "# Update availability"
   ]
  },
  {
   "cell_type": "code",
   "execution_count": null,
   "id": "2f1a870f-a20a-474a-adf2-db3ad72c326f",
   "metadata": {},
   "outputs": [],
   "source": [
    "property_df.loc[property_df['PropertyID'].isin(transactions_df['PropertyID']), 'Availability'] = 'No'\n",
    "\n",
    "# Save the updated property DataFrame to a CSV file\n",
    "property_df.to_csv('/mnt/data/updated_property.csv', index=False)\n",
    "\n",
    "# Display the updated property dataframe\n",
    "property_df.head()"
   ]
  },
  {
   "cell_type": "code",
   "execution_count": null,
   "id": "4afb3efc-e43c-4b32-bcf3-74a7c612cc8c",
   "metadata": {},
   "outputs": [],
   "source": []
  },
  {
   "cell_type": "code",
   "execution_count": null,
   "id": "10401678-8366-4d66-8bea-f751ab9b1092",
   "metadata": {},
   "outputs": [],
   "source": []
  }
 ],
 "metadata": {
  "kernelspec": {
   "display_name": "Python 3 (ipykernel)",
   "language": "python",
   "name": "python3"
  },
  "language_info": {
   "codemirror_mode": {
    "name": "ipython",
    "version": 3
   },
   "file_extension": ".py",
   "mimetype": "text/x-python",
   "name": "python",
   "nbconvert_exporter": "python",
   "pygments_lexer": "ipython3",
   "version": "3.12.4"
  }
 },
 "nbformat": 4,
 "nbformat_minor": 5
}
